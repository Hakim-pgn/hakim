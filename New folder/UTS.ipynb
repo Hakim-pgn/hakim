{
 "cells": [
  {
   "cell_type": "code",
   "execution_count": null,
   "id": "75b3efe4-aa14-48a5-b1bf-7f9231262875",
   "metadata": {},
   "outputs": [],
   "source": [
    "[{\n",
    "    \"name\": \"Company 3\"\n",
    "}, {\n",
    "    \"name\": \"Company 2\"\n",
    "}, {\n",
    "    \"name\": \"Company 1\"\n",
    "}]"
   ]
  },
  {
   "cell_type": "code",
   "execution_count": 1,
   "id": "7b0a99cc-67de-4d06-898a-d34303d5e711",
   "metadata": {},
   "outputs": [],
   "source": [
    "# Task 1: Get list of all Companies sorted by Company Name in reverse order.\n",
    "def task_1():\n",
    "    return [{'name': company['name']} for company in sorted(company_detail_list, key=lambda x: x['name'], reverse=True)]"
   ]
  },
  {
   "cell_type": "code",
   "execution_count": null,
   "id": "00ccaa6d-99f9-47fb-8224-de4923b8b686",
   "metadata": {},
   "outputs": [],
   "source": [
    "Company 1: Retail (United States)\n",
    "    Company 2: Technology (United Kingdom)\n",
    "    Company 3: Healthcare (United States)"
   ]
  },
  {
   "cell_type": "code",
   "execution_count": 2,
   "id": "7fb8be18-d931-4084-ad50-df1ed6c58227",
   "metadata": {},
   "outputs": [],
   "source": [
    "# Task 2: Print all Domain value in every company\n",
    "def task_2():\n",
    "    for company in company_detail_list:\n",
    "        print(f\"{company['name']}: {company['domain']} ({company['country']})\")"
   ]
  },
  {
   "cell_type": "code",
   "execution_count": null,
   "id": "f0723e57-6d21-4f89-8c92-92fc8004cafa",
   "metadata": {},
   "outputs": [],
   "source": [
    "{\n",
    "    \"Retail\": [\n",
    "         \"John Doe\",\n",
    "         \"Robert White\",\n",
    "         \"Ying Han Tan\"\n",
    "     ],\n",
    "    \"Technology\":[\n",
    "          \"Tom Smith\",\n",
    "          \"Rubby Lee\",\n",
    "     ],\n",
    "    \"Healthcare\": [\n",
    "         \"Kenneth Ng\",\n",
    "         \"Andrew Sebastian\"\n",
    "     ],\n",
    "}"
   ]
  },
  {
   "cell_type": "code",
   "execution_count": 3,
   "id": "385be4a9-0958-40b2-8ed4-8a4e2cac505c",
   "metadata": {},
   "outputs": [],
   "source": [
    "# Task 3: List all Employees work by company domain.\n",
    "def task_3():\n",
    "    domain_employees = {}\n",
    "    for company in company_detail_list:\n",
    "        domain = company['domain']\n",
    "        domain_employees[domain] = [emp['full_name'] for emp in employee_detail_list if emp['company'] == company['name']]\n",
    "    return domain_employees"
   ]
  },
  {
   "cell_type": "code",
   "execution_count": null,
   "id": "40834546-de0b-459d-87bc-a3b4b4a98299",
   "metadata": {},
   "outputs": [],
   "source": [
    "[{\n",
    "    \"full_name\": \"John Doe\",\n",
    "    \"company\": \"Company 1\",\n",
    "    \"country\": \"United States\"\n",
    "}, {\n",
    "    \"full_name\": \"Tom Smith\",\n",
    "    \"company\": \"Company 2\",\n",
    "    \"country\": \"United Kingdom\"\n",
    "}, {\n",
    "    \"full_name\": \"Andrew Sebastian\",\n",
    "    \"company\": \"Company 3\",\n",
    "    \"country\": \"United Kingdom\"\n",
    "},  {\n",
    "    \"full_name\": \"Ying Han Tan\",\n",
    "    \"company\": \"Company 1\",\n",
    "    \"country\": \"United States\"\n",
    "},  {\n",
    "    \"full_name\": \"Kenneth Ng\",\n",
    "    \"company\": \"Company 3\",\n",
    "    \"country\": \"United States\"\n",
    "},  {\n",
    "    \"full_name\": \"Rubby Lee\",\n",
    "    \"company\": \"Company 2\",\n",
    "    \"country\": \"United Kingdom\"\n",
    "},   {\n",
    "    \"full_name\": \"Robert White\",\n",
    "    \"company\": \"Company 1\",\n",
    "    \"country\": \"United States\"\n",
    "},\n",
    "    \n",
    "]"
   ]
  },
  {
   "cell_type": "code",
   "execution_count": 4,
   "id": "e79fd091-792a-4ecf-ae08-58dfa841df31",
   "metadata": {},
   "outputs": [],
   "source": [
    "# Task 4: Return employees with their company country.\n",
    "def task_4():\n",
    "    result = []\n",
    "    for emp in employee_detail_list:\n",
    "        company = next((comp for comp in company_detail_list if comp['name'] == emp['company']), None)\n",
    "        if company:\n",
    "            result.append({\n",
    "                \"full_name\": emp['full_name'],\n",
    "                \"company\": emp['company'],\n",
    "                \"country\": company['country']\n",
    "            })\n",
    "    return result"
   ]
  },
  {
   "cell_type": "code",
   "execution_count": null,
   "id": "e2d16793-177e-45e4-aa24-6767ad59b120",
   "metadata": {},
   "outputs": [],
   "source": [
    "[{\n",
    "    \"company\": \"Company 1\",\n",
    "    \"employee_nationality\": {\n",
    "        \"Australia\": 2,\n",
    "        \"Hong Kong\": 1\n",
    "    }\n",
    "}, {\n",
    "    \"company\": \"Company 2\",\n",
    "    \"employee_nationality\": {\n",
    "        \"Hong Kong\": 1,\n",
    "        \"United States\": 1\n",
    "    }\n",
    "}, {\n",
    "    \"company\": \"Company 3\",\n",
    "    \"employee_nationality\": {\n",
    "        \"United States\": 2\n",
    "    }\n",
    "}]"
   ]
  },
  {
   "cell_type": "code",
   "execution_count": 5,
   "id": "e454defe-4d81-45d8-b54a-1da965447aed",
   "metadata": {},
   "outputs": [],
   "source": [
    "# Task 5: Return companies with a number of employees' nationalities working in the company.\n",
    "from collections import defaultdict\n",
    "\n",
    "def task_5():\n",
    "    company_nationalities = defaultdict(lambda: defaultdict(int))\n",
    "    for emp in employee_detail_list:\n",
    "        company_nationalities[emp['company']][emp['nationality']] += 1\n",
    "    return [\n",
    "        {\n",
    "            \"company\": company,\n",
    "            \"employee_nationality\": dict(nationalities)\n",
    "        }\n",
    "        for company, nationalities in company_nationalities.items()\n",
    "    ]"
   ]
  },
  {
   "cell_type": "code",
   "execution_count": 7,
   "id": "522d0aed-a97a-4257-9172-ad96190ad23a",
   "metadata": {},
   "outputs": [
    {
     "ename": "SyntaxError",
     "evalue": "invalid syntax (3486018200.py, line 1)",
     "output_type": "error",
     "traceback": [
      "\u001b[1;36m  Cell \u001b[1;32mIn[7], line 1\u001b[1;36m\u001b[0m\n\u001b[1;33m    Task 1 Result: [{'name': 'Company 3'}, {'name': 'Company 2'}, {'name': 'Company 1'}]\u001b[0m\n\u001b[1;37m         ^\u001b[0m\n\u001b[1;31mSyntaxError\u001b[0m\u001b[1;31m:\u001b[0m invalid syntax\n"
     ]
    }
   ],
   "source": [
    "Task 1 Result: [{'name': 'Company 3'}, {'name': 'Company 2'}, {'name': 'Company 1'}]\n",
    "\n",
    "Task 2 Result:\n",
    "Company 1: Retail (United States)\n",
    "Company 2: Technology (United Kingdom)\n",
    "Company 3: Healthcare (United States)\n",
    "\n",
    "Task 3 Result: {'Retail': ['John Doe', 'Ying Han Tan', 'Robert White'], 'Technology': ['Tom Smith', 'Rubby Lee'], 'Healthcare': ['Andrew Sebastian', 'Kenneth Ng']}\n",
    "\n",
    "Task 4 Result: [{'full_name': 'John Doe', 'company': 'Company 1', 'country': 'United States'}, {'full_name': 'Tom Smith', 'company': 'Company 2', 'country': 'United Kingdom'}, {'full_name': 'Andrew Sebastian', 'company': 'Company 3', 'country': 'United States'}, {'full_name': 'Ying Han Tan', 'company': 'Company 1', 'country': 'United States'}, {'full_name': 'Kenneth Ng', 'company': 'Company 3', 'country': 'United States'}, {'full_name': 'Rubby Lee', 'company': 'Company 2', 'country': 'United Kingdom'}, {'full_name': 'Robert White', 'company': 'Company 1', 'country': 'United States'}]\n",
    "\n",
    "Task 5 Result: [{'company': 'Company 1', 'employee_nationality': {'Australia': 2, 'United Kingdom': 1}}, {'company': 'Company 2', 'employee_nationality': {'United States': 1, 'Hong Kong': 1}}, {'company': 'Company 3', 'employee_nationality': {'United States': 2}}]\n"
   ]
  },
  {
   "cell_type": "code",
   "execution_count": null,
   "id": "9178c8d7-0ba9-4fbc-88de-82bc27c452b9",
   "metadata": {},
   "outputs": [],
   "source": []
  }
 ],
 "metadata": {
  "kernelspec": {
   "display_name": "Python 3 (ipykernel)",
   "language": "python",
   "name": "python3"
  },
  "language_info": {
   "codemirror_mode": {
    "name": "ipython",
    "version": 3
   },
   "file_extension": ".py",
   "mimetype": "text/x-python",
   "name": "python",
   "nbconvert_exporter": "python",
   "pygments_lexer": "ipython3",
   "version": "3.11.9"
  }
 },
 "nbformat": 4,
 "nbformat_minor": 5
}
